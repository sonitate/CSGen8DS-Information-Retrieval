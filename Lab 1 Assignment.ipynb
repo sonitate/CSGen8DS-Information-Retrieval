{
 "cells": [
  {
   "cell_type": "code",
   "execution_count": 2,
   "id": "34e21f62",
   "metadata": {},
   "outputs": [],
   "source": [
    "# Define the documents as a dictionary where keys are document titles and values are document content\n",
    "documents = {\n",
    "    \"Article: Pandas Basics\": \"This article covers the basics of using Pandas in Python.\",\n",
    "    \"Tutorial: Data Visualization\": \"Learn about data visualization techniques with Python libraries.\",\n",
    "    \"Case Study: Sales Analysis\": \"Analyze sales data using Python for a real-world case study.\"\n",
    "}"
   ]
  },
  {
   "cell_type": "code",
   "execution_count": null,
   "id": "ee8fdf0c",
   "metadata": {},
   "outputs": [],
   "source": [
    "# get the keys of the documents and store it in the list\n",
    "key_documents = ...\n",
    "\n",
    "# display the list of the key documents\n",
    "print(key_documents)"
   ]
  },
  {
   "cell_type": "code",
   "execution_count": null,
   "id": "e5398841",
   "metadata": {},
   "outputs": [],
   "source": [
    "# Extract the category of the key documents and store it "
   ]
  },
  {
   "cell_type": "code",
   "execution_count": null,
   "id": "a5353707",
   "metadata": {},
   "outputs": [],
   "source": [
    "\n",
    "# Extract the content values and put them in a list\n",
    "document_content_list = ...\n",
    "\n",
    "# Display the list of document content\n",
    "print(document_content_list)"
   ]
  },
  {
   "cell_type": "code",
   "execution_count": null,
   "id": "bedcd86f",
   "metadata": {},
   "outputs": [],
   "source": [
    "# Gather the set of all unique terms from the list content of document and diplay the result\n",
    "unique_terms = ..."
   ]
  },
  {
   "cell_type": "code",
   "execution_count": null,
   "id": "41334ffd",
   "metadata": {},
   "outputs": [],
   "source": [
    "# create a matrix for the document by using the unique term\n",
    "doc_term_matrix = {}\n",
    "\n",
    "# your code here\n",
    "...\n",
    "\n",
    "# display the result of the matrix\n",
    "doc_term_matrix"
   ]
  },
  {
   "cell_type": "code",
   "execution_count": null,
   "id": "a8a41b23",
   "metadata": {},
   "outputs": [],
   "source": [
    "# import the numpy library if it doesn't work you need to install numpy\n",
    "import ... as ...\n",
    "\n",
    "docs_array = np.array(document_content_list, dtype='object')\n",
    "\n",
    "v1 = np.array(doc_term_matrix['the'])    \n",
    "v2 = np.array(doc_term_matrix['Python'])\n",
    "\n",
    "print(v1)\n",
    "print(v2)\n",
    "print('-------')\n",
    "\n",
    "# find the documents that have both terms from v1 and v2\n",
    "v3 = ....\n",
    "\n",
    "print(v3)\n",
    "\n",
    "# display the content document from the result\n",
    "..."
   ]
  },
  {
   "cell_type": "code",
   "execution_count": null,
   "id": "11484192",
   "metadata": {},
   "outputs": [],
   "source": [
    "# find the document for those have at least one word"
   ]
  }
 ],
 "metadata": {
  "kernelspec": {
   "display_name": "base",
   "language": "python",
   "name": "python3"
  },
  "language_info": {
   "codemirror_mode": {
    "name": "ipython",
    "version": 3
   },
   "file_extension": ".py",
   "mimetype": "text/x-python",
   "name": "python",
   "nbconvert_exporter": "python",
   "pygments_lexer": "ipython3",
   "version": "3.10.12"
  }
 },
 "nbformat": 4,
 "nbformat_minor": 5
}
